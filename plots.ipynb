{
 "cells": [
  {
   "cell_type": "code",
   "execution_count": 1,
   "metadata": {},
   "outputs": [],
   "source": [
    "import matplotlib.pyplot as plt\n",
    "import numpy as np\n",
    "\n",
    "#function to plot cumulative portfolio values\n",
    "def plot_cpv(final_pf_values_opt, final_pf_values_eq, initial_portfolio_value, plot_name):\n",
    "\tplt.plot(final_pf_values_opt, label = 'optimizing agent')\n",
    "\tplt.plot(final_pf_values_eq, label = 'equiweight agent')\n",
    "\tplt.plot([initial_portfolio_value] * len(final_pf_values_opt), label = 'no investment')\n",
    "\tplt.legend()\n",
    "\tplt.title('cumulative portfolio values over test steps')\n",
    "\tplt.xlabel('test steps')\n",
    "\tplt.ylabel('cumulative portfolio value')\n",
    "\tplt.savefig('figures/test_result_plots/' + plot_name)\n",
    "\n",
    "#function to plot final wt vectors assigned\n",
    "def plot_wts_assigned(wt_vector, num_stocks, ticker_list, plot_name):\n",
    "\tplt.bar(np.arange(num_stocks + 1), wt_vector)\n",
    "\tplt.title('Final Portfolio weights (test set)')\n",
    "\tplt.xticks(np.arange(num_stocks + 1), ['Cash'] + ticker_list, rotation=45)\n",
    "\tplt.xlabel('tickers')\n",
    "\tplt.savefig('figures/test_result_plots/' + plot_name)"
   ]
  },
  {
   "cell_type": "code",
   "execution_count": null,
   "metadata": {},
   "outputs": [],
   "source": []
  }
 ],
 "metadata": {
  "kernelspec": {
   "display_name": "Python 3",
   "language": "python",
   "name": "python3"
  },
  "language_info": {
   "codemirror_mode": {
    "name": "ipython",
    "version": 3
   },
   "file_extension": ".py",
   "mimetype": "text/x-python",
   "name": "python",
   "nbconvert_exporter": "python",
   "pygments_lexer": "ipython3",
   "version": "3.7.4"
  }
 },
 "nbformat": 4,
 "nbformat_minor": 2
}
