{
 "cells": [
  {
   "cell_type": "code",
   "execution_count": 2,
   "metadata": {},
   "outputs": [
    {
     "name": "stdout",
     "output_type": "stream",
     "text": [
      "number of ohlc features : 4\n",
      "number of stocks considered : 16\n",
      "number of trading days captured : 3670\n"
     ]
    }
   ],
   "source": [
    "import numpy as np \n",
    "import tensorflow as tf\n",
    "import pandas as pd\n",
    "\n",
    "#dataset information\n",
    "data_path = 'stocks_data_input.npy'\n",
    "ticker_list = ['AAPL', 'XOM' ,'VMC', 'BA', 'AMZN', 'TGT', 'WMT', 'KO', 'UNH', 'JPM', 'STT', 'MSFT', 'VZ', 'XEL', 'SPG']\n",
    "\n",
    "\n",
    "data = np.load(data_path)\n",
    "ohlc_features_num = data.shape[0]\n",
    "ticker_num = data.shape[1]\n",
    "trading_days_captured = data.shape[2]\n",
    "\n",
    "\n",
    "print('number of ohlc features : ' + str(ohlc_features_num))\n",
    "print('number of stocks considered : ' + str(ticker_num))\n",
    "print('number of trading days captured : ' + str(trading_days_captured))\n",
    "\n",
    "equiweight_weights_stocks = np.array([np.array([1/(ticker_num)]*(ticker_num+1))])\n",
    "\n",
    "\n",
    "#hyper parameters of the CNN network\n",
    "num_filters_layer_1 = 2\n",
    "num_filters_layer_2 = 20\n",
    "kernel_size = (1, 3)\n",
    "\n",
    "#train-validation-test split\n",
    "train_data_ratio = 0.6\n",
    "training_steps = 0.6 * trading_days_captured\n",
    "validation_steps = 0.2 * trading_days_captured\n",
    "test_steps = 0.2 * trading_days_captured\n",
    "\n",
    "#hyper parameters for RL framework\n",
    "training_batch_size = 40\n",
    "beta_pvm = 5e-5  \n",
    "num_trading_periods = 10\n",
    "\n",
    "weight_vector_init = np.array(np.array([1] + [0] * ticker_num))\n",
    "portfolio_value_init = 10000\n",
    "weight_vector_init_test = np.array(np.array([1] + [0] * ticker_num))\n",
    "portfolio_value_init_test = 10000\n",
    "num_episodes = 4\n",
    "num_batches = 40\n",
    "equiweight_vector = np.array(np.array([1/(ticker_num + 1)] * (ticker_num + 1)))\n",
    "#probability of exploitation in the RL framework (acting greedily)\n",
    "epsilon = 0.9\n",
    "#used while calculating the adjusted rewards\n",
    "adjusted_rewards_alpha = 0.1\n",
    "\n",
    "#hyper parameters for the optimizer\n",
    "l2_reg_coef = 1e-8\n",
    "adam_opt_alpha = 9e-2\n",
    "optimizer = tf.optimizers.Adam(adam_opt_alpha)\n",
    "\n",
    "#hyper parameters for trading \n",
    "trading_cost = 1/100000\n",
    "interest_rate = 0.02/250\n",
    "cash_bias_init = 0.7"
   ]
  },
  {
   "cell_type": "code",
   "execution_count": null,
   "metadata": {},
   "outputs": [],
   "source": []
  }
 ],
 "metadata": {
  "kernelspec": {
   "display_name": "Python 3",
   "language": "python",
   "name": "python3"
  },
  "language_info": {
   "codemirror_mode": {
    "name": "ipython",
    "version": 3
   },
   "file_extension": ".py",
   "mimetype": "text/x-python",
   "name": "python",
   "nbconvert_exporter": "python",
   "pygments_lexer": "ipython3",
   "version": "3.7.4"
  }
 },
 "nbformat": 4,
 "nbformat_minor": 2
}
