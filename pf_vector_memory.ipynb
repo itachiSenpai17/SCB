{
 "cells": [
  {
   "cell_type": "code",
   "execution_count": 1,
   "metadata": {},
   "outputs": [],
   "source": [
    "import numpy as np\n",
    "\n",
    "class PFVectorMemory(object):\n",
    "\n",
    "    def __init__(self, ticker_num, beta_pvm, training_steps, training_batch_size, wt_vector_init):\n",
    "        \n",
    "        #pvm at all times\n",
    "        self.pvm = np.transpose(np.array([wt_vector_init] * int(training_steps)))\n",
    "        self.beta_pvm = beta_pvm\n",
    "        self.training_steps = training_steps\n",
    "        self.training_batch_size = training_batch_size\n",
    "\n",
    "    def get_wt_vector_t(self, t):\n",
    "        return self.pvm[:, t]\n",
    "\n",
    "    def update_wt_vector_t(self, t, weight):\n",
    "        self.pvm[:, int(t)] = weight\n",
    "            \n",
    "    def test(self):\n",
    "        return self.pvm"
   ]
  },
  {
   "cell_type": "code",
   "execution_count": null,
   "metadata": {},
   "outputs": [],
   "source": []
  }
 ],
 "metadata": {
  "kernelspec": {
   "display_name": "Python 3",
   "language": "python",
   "name": "python3"
  },
  "language_info": {
   "codemirror_mode": {
    "name": "ipython",
    "version": 3
   },
   "file_extension": ".py",
   "mimetype": "text/x-python",
   "name": "python",
   "nbconvert_exporter": "python",
   "pygments_lexer": "ipython3",
   "version": "3.7.4"
  }
 },
 "nbformat": 4,
 "nbformat_minor": 2
}
