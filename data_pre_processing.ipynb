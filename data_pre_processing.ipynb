{
 "cells": [
  {
   "cell_type": "code",
   "execution_count": 1,
   "metadata": {},
   "outputs": [],
   "source": [
    "import numpy as np\n",
    "import pandas as pd\n"
   ]
  },
  {
   "cell_type": "code",
   "execution_count": 2,
   "metadata": {},
   "outputs": [
    {
     "name": "stdout",
     "output_type": "stream",
     "text": [
      "stocks considered : ['AAPL' 'AMZN' 'BA' 'GOOGL' 'JPM' 'KO' 'MSFT' 'SPG' 'STT' 'TGT' 'UNH'\n",
      " 'VMC' 'VZ' 'WMT' 'XEL' 'XOM']\n"
     ]
    }
   ],
   "source": [
    "nbr_trading_days = 252\n",
    "\n",
    "#reading stock data\n",
    "stocks_data_file_path = 'stocks.csv'\n",
    "stocks_data = pd.read_csv(stocks_data_file_path)\n",
    "stocks_data  = stocks_data.sort_values(['ticker', 'Date'])\n",
    "print('stocks considered : ' + str(np.unique(stocks_data['ticker'])))"
   ]
  },
  {
   "cell_type": "code",
   "execution_count": 3,
   "metadata": {},
   "outputs": [],
   "source": [
    "pivot_table = pd.pivot_table(stocks_data, values='Close', index=['Date'],columns=['ticker'])\n",
    "returns = pivot_table.pct_change().dropna()\n",
    "stocks_returns_mean = returns.mean()\n",
    "stocks_covariance_matrix = returns.cov()\n"
   ]
  },
  {
   "cell_type": "code",
   "execution_count": 4,
   "metadata": {},
   "outputs": [],
   "source": [
    "def get_input_data(data_table, ticker_column_name):\n",
    "    open_values = list()\n",
    "    close_values = list()\n",
    "    high_values = list()\n",
    "    low_values = list()\n",
    "\n",
    "    for ticker in np.unique(data_table[ticker_column_name]):\n",
    "        open_value_list = data_table['Open'].loc[data_table[ticker_column_name]==ticker]\n",
    "        open_values.append(open_value_list[1:].reset_index(drop = True) / open_value_list[:-1].reset_index(drop = True))\n",
    "        close_values.append(data_table['Close'].loc[data_table[ticker_column_name]==ticker][:-1] / open_value_list[:-1])\n",
    "        high_values.append(data_table['High'].loc[data_table[ticker_column_name]==ticker][:-1] / open_value_list[:-1])\n",
    "        low_values.append(data_table['Low'].loc[data_table[ticker_column_name]==ticker][:-1] / open_value_list[:-1])\n",
    "    \n",
    "    return np.array([close_values,\n",
    "                     high_values,\n",
    "                     low_values,\n",
    "                     open_values])"
   ]
  },
  {
   "cell_type": "code",
   "execution_count": 5,
   "metadata": {},
   "outputs": [
    {
     "name": "stdout",
     "output_type": "stream",
     "text": [
      "shape of stocks data input : (4, 16, 3670)\n"
     ]
    }
   ],
   "source": [
    "stocks_input_array = get_input_data(stocks_data, 'ticker')\n",
    "np.save('stocks_data_input.npy', stocks_input_array)\n",
    "print('shape of stocks data input : ' + str(stocks_input_array.shape))"
   ]
  },
  {
   "cell_type": "code",
   "execution_count": null,
   "metadata": {},
   "outputs": [],
   "source": []
  }
 ],
 "metadata": {
  "kernelspec": {
   "display_name": "Python 3",
   "language": "python",
   "name": "python3"
  },
  "language_info": {
   "codemirror_mode": {
    "name": "ipython",
    "version": 3
   },
   "file_extension": ".py",
   "mimetype": "text/x-python",
   "name": "python",
   "nbconvert_exporter": "python",
   "pygments_lexer": "ipython3",
   "version": "3.7.4"
  }
 },
 "nbformat": 4,
 "nbformat_minor": 2
}
